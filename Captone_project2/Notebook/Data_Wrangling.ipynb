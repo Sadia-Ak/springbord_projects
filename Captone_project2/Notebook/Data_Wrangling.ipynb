{
 "cells": [
  {
   "cell_type": "code",
   "execution_count": 122,
   "id": "e9b35df1-b811-4c5d-a5fb-a572b1d6ecb9",
   "metadata": {},
   "outputs": [],
   "source": [
    "import pandas as pd\n",
    "import numpy as np\n",
    "import  matplotlib.pyplot as plt\n",
    "import seaborn as sns\n",
    "import os\n",
    "\n"
   ]
  },
  {
   "cell_type": "code",
   "execution_count": 123,
   "id": "fcde4d95-74f3-4487-b167-f510d360e13e",
   "metadata": {},
   "outputs": [],
   "source": [
    "stock_data = pd.read_csv('../raw_data/stock_data.csv')"
   ]
  },
  {
   "cell_type": "code",
   "execution_count": 124,
   "id": "eb402e5c-3da7-4b56-8416-9fd1f335734b",
   "metadata": {},
   "outputs": [
    {
     "name": "stdout",
     "output_type": "stream",
     "text": [
      "<class 'pandas.core.frame.DataFrame'>\n",
      "RangeIndex: 19586 entries, 0 to 19585\n",
      "Data columns (total 8 columns):\n",
      " #   Column   Non-Null Count  Dtype  \n",
      "---  ------   --------------  -----  \n",
      " 0   Date     19586 non-null  object \n",
      " 1   Open     19586 non-null  float64\n",
      " 2   High     19586 non-null  float64\n",
      " 3   Low      19586 non-null  float64\n",
      " 4   Close    19586 non-null  float64\n",
      " 5   Volume   19586 non-null  int64  \n",
      " 6   OpenInt  19586 non-null  int64  \n",
      " 7   Stock    19586 non-null  object \n",
      "dtypes: float64(4), int64(2), object(2)\n",
      "memory usage: 1.2+ MB\n"
     ]
    }
   ],
   "source": [
    "stock_data.info()"
   ]
  },
  {
   "cell_type": "code",
   "execution_count": 125,
   "id": "d4777e02-acc2-4588-99f0-ce22a99ad498",
   "metadata": {},
   "outputs": [
    {
     "data": {
      "text/html": [
       "<div>\n",
       "<style scoped>\n",
       "    .dataframe tbody tr th:only-of-type {\n",
       "        vertical-align: middle;\n",
       "    }\n",
       "\n",
       "    .dataframe tbody tr th {\n",
       "        vertical-align: top;\n",
       "    }\n",
       "\n",
       "    .dataframe thead th {\n",
       "        text-align: right;\n",
       "    }\n",
       "</style>\n",
       "<table border=\"1\" class=\"dataframe\">\n",
       "  <thead>\n",
       "    <tr style=\"text-align: right;\">\n",
       "      <th></th>\n",
       "      <th>Date</th>\n",
       "      <th>Open</th>\n",
       "      <th>High</th>\n",
       "      <th>Low</th>\n",
       "      <th>Close</th>\n",
       "      <th>Volume</th>\n",
       "      <th>OpenInt</th>\n",
       "      <th>Stock</th>\n",
       "    </tr>\n",
       "  </thead>\n",
       "  <tbody>\n",
       "    <tr>\n",
       "      <th>0</th>\n",
       "      <td>1984-09-07</td>\n",
       "      <td>0.42388</td>\n",
       "      <td>0.42902</td>\n",
       "      <td>0.41874</td>\n",
       "      <td>0.42388</td>\n",
       "      <td>23220030</td>\n",
       "      <td>0</td>\n",
       "      <td>AAPL</td>\n",
       "    </tr>\n",
       "    <tr>\n",
       "      <th>1</th>\n",
       "      <td>1984-09-10</td>\n",
       "      <td>0.42388</td>\n",
       "      <td>0.42516</td>\n",
       "      <td>0.41366</td>\n",
       "      <td>0.42134</td>\n",
       "      <td>18022532</td>\n",
       "      <td>0</td>\n",
       "      <td>AAPL</td>\n",
       "    </tr>\n",
       "    <tr>\n",
       "      <th>2</th>\n",
       "      <td>1984-09-11</td>\n",
       "      <td>0.42516</td>\n",
       "      <td>0.43668</td>\n",
       "      <td>0.42516</td>\n",
       "      <td>0.42902</td>\n",
       "      <td>42498199</td>\n",
       "      <td>0</td>\n",
       "      <td>AAPL</td>\n",
       "    </tr>\n",
       "    <tr>\n",
       "      <th>3</th>\n",
       "      <td>1984-09-12</td>\n",
       "      <td>0.42902</td>\n",
       "      <td>0.43157</td>\n",
       "      <td>0.41618</td>\n",
       "      <td>0.41618</td>\n",
       "      <td>37125801</td>\n",
       "      <td>0</td>\n",
       "      <td>AAPL</td>\n",
       "    </tr>\n",
       "    <tr>\n",
       "      <th>4</th>\n",
       "      <td>1984-09-13</td>\n",
       "      <td>0.43927</td>\n",
       "      <td>0.44052</td>\n",
       "      <td>0.43927</td>\n",
       "      <td>0.43927</td>\n",
       "      <td>57822062</td>\n",
       "      <td>0</td>\n",
       "      <td>AAPL</td>\n",
       "    </tr>\n",
       "    <tr>\n",
       "      <th>5</th>\n",
       "      <td>1984-09-14</td>\n",
       "      <td>0.44052</td>\n",
       "      <td>0.45589</td>\n",
       "      <td>0.44052</td>\n",
       "      <td>0.44566</td>\n",
       "      <td>68847968</td>\n",
       "      <td>0</td>\n",
       "      <td>AAPL</td>\n",
       "    </tr>\n",
       "    <tr>\n",
       "      <th>6</th>\n",
       "      <td>1984-09-17</td>\n",
       "      <td>0.45718</td>\n",
       "      <td>0.46357</td>\n",
       "      <td>0.45718</td>\n",
       "      <td>0.45718</td>\n",
       "      <td>53755262</td>\n",
       "      <td>0</td>\n",
       "      <td>AAPL</td>\n",
       "    </tr>\n",
       "    <tr>\n",
       "      <th>7</th>\n",
       "      <td>1984-09-18</td>\n",
       "      <td>0.45718</td>\n",
       "      <td>0.46103</td>\n",
       "      <td>0.44052</td>\n",
       "      <td>0.44052</td>\n",
       "      <td>27136886</td>\n",
       "      <td>0</td>\n",
       "      <td>AAPL</td>\n",
       "    </tr>\n",
       "    <tr>\n",
       "      <th>8</th>\n",
       "      <td>1984-09-19</td>\n",
       "      <td>0.44052</td>\n",
       "      <td>0.44566</td>\n",
       "      <td>0.43157</td>\n",
       "      <td>0.43157</td>\n",
       "      <td>29641922</td>\n",
       "      <td>0</td>\n",
       "      <td>AAPL</td>\n",
       "    </tr>\n",
       "    <tr>\n",
       "      <th>9</th>\n",
       "      <td>1984-09-20</td>\n",
       "      <td>0.43286</td>\n",
       "      <td>0.43668</td>\n",
       "      <td>0.43286</td>\n",
       "      <td>0.43286</td>\n",
       "      <td>18453585</td>\n",
       "      <td>0</td>\n",
       "      <td>AAPL</td>\n",
       "    </tr>\n",
       "  </tbody>\n",
       "</table>\n",
       "</div>"
      ],
      "text/plain": [
       "         Date     Open     High      Low    Close    Volume  OpenInt Stock\n",
       "0  1984-09-07  0.42388  0.42902  0.41874  0.42388  23220030        0  AAPL\n",
       "1  1984-09-10  0.42388  0.42516  0.41366  0.42134  18022532        0  AAPL\n",
       "2  1984-09-11  0.42516  0.43668  0.42516  0.42902  42498199        0  AAPL\n",
       "3  1984-09-12  0.42902  0.43157  0.41618  0.41618  37125801        0  AAPL\n",
       "4  1984-09-13  0.43927  0.44052  0.43927  0.43927  57822062        0  AAPL\n",
       "5  1984-09-14  0.44052  0.45589  0.44052  0.44566  68847968        0  AAPL\n",
       "6  1984-09-17  0.45718  0.46357  0.45718  0.45718  53755262        0  AAPL\n",
       "7  1984-09-18  0.45718  0.46103  0.44052  0.44052  27136886        0  AAPL\n",
       "8  1984-09-19  0.44052  0.44566  0.43157  0.43157  29641922        0  AAPL\n",
       "9  1984-09-20  0.43286  0.43668  0.43286  0.43286  18453585        0  AAPL"
      ]
     },
     "execution_count": 125,
     "metadata": {},
     "output_type": "execute_result"
    }
   ],
   "source": [
    "stock_data.head(10)\n"
   ]
  },
  {
   "cell_type": "code",
   "execution_count": 126,
   "id": "94391952-59a0-44d1-a566-4738bec1dc4f",
   "metadata": {},
   "outputs": [
    {
     "data": {
      "text/plain": [
       "19586"
      ]
     },
     "execution_count": 126,
     "metadata": {},
     "output_type": "execute_result"
    }
   ],
   "source": [
    "stock_data.shape[0]"
   ]
  },
  {
   "cell_type": "code",
   "execution_count": 127,
   "id": "5d70fdfc",
   "metadata": {},
   "outputs": [
    {
     "name": "stdout",
     "output_type": "stream",
     "text": [
      "Index(['Date', 'Open', 'High', 'Low', 'Close', 'Volume', 'OpenInt', 'Stock'], dtype='object')\n"
     ]
    }
   ],
   "source": [
    "print(stock_data.columns)"
   ]
  },
  {
   "cell_type": "markdown",
   "id": "f6f210c6-be83-4c0c-8383-3ccecc54b1df",
   "metadata": {},
   "source": [
    "There are 8 columns and 19586 rows in this dataset"
   ]
  },
  {
   "cell_type": "code",
   "execution_count": 128,
   "id": "c827fc6e",
   "metadata": {},
   "outputs": [
    {
     "data": {
      "text/html": [
       "<div>\n",
       "<style scoped>\n",
       "    .dataframe tbody tr th:only-of-type {\n",
       "        vertical-align: middle;\n",
       "    }\n",
       "\n",
       "    .dataframe tbody tr th {\n",
       "        vertical-align: top;\n",
       "    }\n",
       "\n",
       "    .dataframe thead th {\n",
       "        text-align: right;\n",
       "    }\n",
       "</style>\n",
       "<table border=\"1\" class=\"dataframe\">\n",
       "  <thead>\n",
       "    <tr style=\"text-align: right;\">\n",
       "      <th></th>\n",
       "      <th>Open</th>\n",
       "      <th>High</th>\n",
       "      <th>Low</th>\n",
       "      <th>Close</th>\n",
       "      <th>Volume</th>\n",
       "      <th>OpenInt</th>\n",
       "    </tr>\n",
       "  </thead>\n",
       "  <tbody>\n",
       "    <tr>\n",
       "      <th>count</th>\n",
       "      <td>19586.000000</td>\n",
       "      <td>19586.000000</td>\n",
       "      <td>19586.000000</td>\n",
       "      <td>19586.000000</td>\n",
       "      <td>1.958600e+04</td>\n",
       "      <td>19586.0</td>\n",
       "    </tr>\n",
       "    <tr>\n",
       "      <th>mean</th>\n",
       "      <td>37.408582</td>\n",
       "      <td>37.881571</td>\n",
       "      <td>36.906405</td>\n",
       "      <td>37.406667</td>\n",
       "      <td>8.100395e+07</td>\n",
       "      <td>0.0</td>\n",
       "    </tr>\n",
       "    <tr>\n",
       "      <th>std</th>\n",
       "      <td>59.492049</td>\n",
       "      <td>60.287797</td>\n",
       "      <td>58.622548</td>\n",
       "      <td>59.480058</td>\n",
       "      <td>7.982366e+07</td>\n",
       "      <td>0.0</td>\n",
       "    </tr>\n",
       "    <tr>\n",
       "      <th>min</th>\n",
       "      <td>0.067200</td>\n",
       "      <td>0.067200</td>\n",
       "      <td>0.067200</td>\n",
       "      <td>0.067200</td>\n",
       "      <td>0.000000e+00</td>\n",
       "      <td>0.0</td>\n",
       "    </tr>\n",
       "    <tr>\n",
       "      <th>25%</th>\n",
       "      <td>1.412300</td>\n",
       "      <td>1.440600</td>\n",
       "      <td>1.384100</td>\n",
       "      <td>1.412300</td>\n",
       "      <td>3.385552e+07</td>\n",
       "      <td>0.0</td>\n",
       "    </tr>\n",
       "    <tr>\n",
       "      <th>50%</th>\n",
       "      <td>19.649500</td>\n",
       "      <td>19.933000</td>\n",
       "      <td>19.363000</td>\n",
       "      <td>19.640000</td>\n",
       "      <td>6.294731e+07</td>\n",
       "      <td>0.0</td>\n",
       "    </tr>\n",
       "    <tr>\n",
       "      <th>75%</th>\n",
       "      <td>38.605000</td>\n",
       "      <td>39.075750</td>\n",
       "      <td>38.229250</td>\n",
       "      <td>38.655500</td>\n",
       "      <td>1.010604e+08</td>\n",
       "      <td>0.0</td>\n",
       "    </tr>\n",
       "    <tr>\n",
       "      <th>max</th>\n",
       "      <td>386.690000</td>\n",
       "      <td>389.610000</td>\n",
       "      <td>379.345000</td>\n",
       "      <td>385.000000</td>\n",
       "      <td>2.069770e+09</td>\n",
       "      <td>0.0</td>\n",
       "    </tr>\n",
       "  </tbody>\n",
       "</table>\n",
       "</div>"
      ],
      "text/plain": [
       "               Open          High           Low         Close        Volume  \\\n",
       "count  19586.000000  19586.000000  19586.000000  19586.000000  1.958600e+04   \n",
       "mean      37.408582     37.881571     36.906405     37.406667  8.100395e+07   \n",
       "std       59.492049     60.287797     58.622548     59.480058  7.982366e+07   \n",
       "min        0.067200      0.067200      0.067200      0.067200  0.000000e+00   \n",
       "25%        1.412300      1.440600      1.384100      1.412300  3.385552e+07   \n",
       "50%       19.649500     19.933000     19.363000     19.640000  6.294731e+07   \n",
       "75%       38.605000     39.075750     38.229250     38.655500  1.010604e+08   \n",
       "max      386.690000    389.610000    379.345000    385.000000  2.069770e+09   \n",
       "\n",
       "       OpenInt  \n",
       "count  19586.0  \n",
       "mean       0.0  \n",
       "std        0.0  \n",
       "min        0.0  \n",
       "25%        0.0  \n",
       "50%        0.0  \n",
       "75%        0.0  \n",
       "max        0.0  "
      ]
     },
     "execution_count": 128,
     "metadata": {},
     "output_type": "execute_result"
    }
   ],
   "source": [
    "stock_data.describe()"
   ]
  },
  {
   "cell_type": "code",
   "execution_count": 129,
   "id": "b5a725b2-8b0a-4d93-b9cd-5b2c3df1c62a",
   "metadata": {},
   "outputs": [
    {
     "data": {
      "text/html": [
       "<div>\n",
       "<style scoped>\n",
       "    .dataframe tbody tr th:only-of-type {\n",
       "        vertical-align: middle;\n",
       "    }\n",
       "\n",
       "    .dataframe tbody tr th {\n",
       "        vertical-align: top;\n",
       "    }\n",
       "\n",
       "    .dataframe thead th {\n",
       "        text-align: right;\n",
       "    }\n",
       "</style>\n",
       "<table border=\"1\" class=\"dataframe\">\n",
       "  <thead>\n",
       "    <tr style=\"text-align: right;\">\n",
       "      <th></th>\n",
       "      <th>0</th>\n",
       "      <th>1</th>\n",
       "      <th>2</th>\n",
       "      <th>3</th>\n",
       "      <th>4</th>\n",
       "      <th>5</th>\n",
       "      <th>6</th>\n",
       "      <th>7</th>\n",
       "      <th>8</th>\n",
       "      <th>9</th>\n",
       "      <th>...</th>\n",
       "      <th>19576</th>\n",
       "      <th>19577</th>\n",
       "      <th>19578</th>\n",
       "      <th>19579</th>\n",
       "      <th>19580</th>\n",
       "      <th>19581</th>\n",
       "      <th>19582</th>\n",
       "      <th>19583</th>\n",
       "      <th>19584</th>\n",
       "      <th>19585</th>\n",
       "    </tr>\n",
       "  </thead>\n",
       "  <tbody>\n",
       "    <tr>\n",
       "      <th>Date</th>\n",
       "      <td>1984-09-07</td>\n",
       "      <td>1984-09-10</td>\n",
       "      <td>1984-09-11</td>\n",
       "      <td>1984-09-12</td>\n",
       "      <td>1984-09-13</td>\n",
       "      <td>1984-09-14</td>\n",
       "      <td>1984-09-17</td>\n",
       "      <td>1984-09-18</td>\n",
       "      <td>1984-09-19</td>\n",
       "      <td>1984-09-20</td>\n",
       "      <td>...</td>\n",
       "      <td>2017-10-30</td>\n",
       "      <td>2017-10-31</td>\n",
       "      <td>2017-11-01</td>\n",
       "      <td>2017-11-02</td>\n",
       "      <td>2017-11-03</td>\n",
       "      <td>2017-11-06</td>\n",
       "      <td>2017-11-07</td>\n",
       "      <td>2017-11-08</td>\n",
       "      <td>2017-11-09</td>\n",
       "      <td>2017-11-10</td>\n",
       "    </tr>\n",
       "    <tr>\n",
       "      <th>Open</th>\n",
       "      <td>0.42388</td>\n",
       "      <td>0.42388</td>\n",
       "      <td>0.42516</td>\n",
       "      <td>0.42902</td>\n",
       "      <td>0.43927</td>\n",
       "      <td>0.44052</td>\n",
       "      <td>0.45718</td>\n",
       "      <td>0.45718</td>\n",
       "      <td>0.44052</td>\n",
       "      <td>0.43286</td>\n",
       "      <td>...</td>\n",
       "      <td>179.26</td>\n",
       "      <td>180.57</td>\n",
       "      <td>182.36</td>\n",
       "      <td>180.63</td>\n",
       "      <td>179.29</td>\n",
       "      <td>178.56</td>\n",
       "      <td>180.5</td>\n",
       "      <td>179.79</td>\n",
       "      <td>178.31</td>\n",
       "      <td>178.35</td>\n",
       "    </tr>\n",
       "    <tr>\n",
       "      <th>High</th>\n",
       "      <td>0.42902</td>\n",
       "      <td>0.42516</td>\n",
       "      <td>0.43668</td>\n",
       "      <td>0.43157</td>\n",
       "      <td>0.44052</td>\n",
       "      <td>0.45589</td>\n",
       "      <td>0.46357</td>\n",
       "      <td>0.46103</td>\n",
       "      <td>0.44566</td>\n",
       "      <td>0.43668</td>\n",
       "      <td>...</td>\n",
       "      <td>180.69</td>\n",
       "      <td>180.8</td>\n",
       "      <td>182.9</td>\n",
       "      <td>181.94</td>\n",
       "      <td>179.86</td>\n",
       "      <td>180.45</td>\n",
       "      <td>180.748</td>\n",
       "      <td>180.35</td>\n",
       "      <td>179.4</td>\n",
       "      <td>179.1</td>\n",
       "    </tr>\n",
       "    <tr>\n",
       "      <th>Low</th>\n",
       "      <td>0.41874</td>\n",
       "      <td>0.41366</td>\n",
       "      <td>0.42516</td>\n",
       "      <td>0.41618</td>\n",
       "      <td>0.43927</td>\n",
       "      <td>0.44052</td>\n",
       "      <td>0.45718</td>\n",
       "      <td>0.44052</td>\n",
       "      <td>0.43157</td>\n",
       "      <td>0.43286</td>\n",
       "      <td>...</td>\n",
       "      <td>177.61</td>\n",
       "      <td>178.94</td>\n",
       "      <td>180.57</td>\n",
       "      <td>177.34</td>\n",
       "      <td>176.71</td>\n",
       "      <td>178.31</td>\n",
       "      <td>179.403</td>\n",
       "      <td>179.11</td>\n",
       "      <td>177.09</td>\n",
       "      <td>177.96</td>\n",
       "    </tr>\n",
       "    <tr>\n",
       "      <th>Close</th>\n",
       "      <td>0.42388</td>\n",
       "      <td>0.42134</td>\n",
       "      <td>0.42902</td>\n",
       "      <td>0.41618</td>\n",
       "      <td>0.43927</td>\n",
       "      <td>0.44566</td>\n",
       "      <td>0.45718</td>\n",
       "      <td>0.44052</td>\n",
       "      <td>0.43157</td>\n",
       "      <td>0.43286</td>\n",
       "      <td>...</td>\n",
       "      <td>179.87</td>\n",
       "      <td>180.06</td>\n",
       "      <td>182.66</td>\n",
       "      <td>178.92</td>\n",
       "      <td>178.92</td>\n",
       "      <td>180.17</td>\n",
       "      <td>180.25</td>\n",
       "      <td>179.56</td>\n",
       "      <td>179.3</td>\n",
       "      <td>178.46</td>\n",
       "    </tr>\n",
       "    <tr>\n",
       "      <th>Volume</th>\n",
       "      <td>23220030</td>\n",
       "      <td>18022532</td>\n",
       "      <td>42498199</td>\n",
       "      <td>37125801</td>\n",
       "      <td>57822062</td>\n",
       "      <td>68847968</td>\n",
       "      <td>53755262</td>\n",
       "      <td>27136886</td>\n",
       "      <td>29641922</td>\n",
       "      <td>18453585</td>\n",
       "      <td>...</td>\n",
       "      <td>24353160</td>\n",
       "      <td>20174231</td>\n",
       "      <td>40918341</td>\n",
       "      <td>35529893</td>\n",
       "      <td>17822131</td>\n",
       "      <td>13275578</td>\n",
       "      <td>12903836</td>\n",
       "      <td>10467606</td>\n",
       "      <td>12602188</td>\n",
       "      <td>11060355</td>\n",
       "    </tr>\n",
       "    <tr>\n",
       "      <th>OpenInt</th>\n",
       "      <td>0</td>\n",
       "      <td>0</td>\n",
       "      <td>0</td>\n",
       "      <td>0</td>\n",
       "      <td>0</td>\n",
       "      <td>0</td>\n",
       "      <td>0</td>\n",
       "      <td>0</td>\n",
       "      <td>0</td>\n",
       "      <td>0</td>\n",
       "      <td>...</td>\n",
       "      <td>0</td>\n",
       "      <td>0</td>\n",
       "      <td>0</td>\n",
       "      <td>0</td>\n",
       "      <td>0</td>\n",
       "      <td>0</td>\n",
       "      <td>0</td>\n",
       "      <td>0</td>\n",
       "      <td>0</td>\n",
       "      <td>0</td>\n",
       "    </tr>\n",
       "    <tr>\n",
       "      <th>Stock</th>\n",
       "      <td>AAPL</td>\n",
       "      <td>AAPL</td>\n",
       "      <td>AAPL</td>\n",
       "      <td>AAPL</td>\n",
       "      <td>AAPL</td>\n",
       "      <td>AAPL</td>\n",
       "      <td>AAPL</td>\n",
       "      <td>AAPL</td>\n",
       "      <td>AAPL</td>\n",
       "      <td>AAPL</td>\n",
       "      <td>...</td>\n",
       "      <td>FB</td>\n",
       "      <td>FB</td>\n",
       "      <td>FB</td>\n",
       "      <td>FB</td>\n",
       "      <td>FB</td>\n",
       "      <td>FB</td>\n",
       "      <td>FB</td>\n",
       "      <td>FB</td>\n",
       "      <td>FB</td>\n",
       "      <td>FB</td>\n",
       "    </tr>\n",
       "  </tbody>\n",
       "</table>\n",
       "<p>8 rows × 19586 columns</p>\n",
       "</div>"
      ],
      "text/plain": [
       "              0           1           2           3           4      \\\n",
       "Date     1984-09-07  1984-09-10  1984-09-11  1984-09-12  1984-09-13   \n",
       "Open        0.42388     0.42388     0.42516     0.42902     0.43927   \n",
       "High        0.42902     0.42516     0.43668     0.43157     0.44052   \n",
       "Low         0.41874     0.41366     0.42516     0.41618     0.43927   \n",
       "Close       0.42388     0.42134     0.42902     0.41618     0.43927   \n",
       "Volume     23220030    18022532    42498199    37125801    57822062   \n",
       "OpenInt           0           0           0           0           0   \n",
       "Stock          AAPL        AAPL        AAPL        AAPL        AAPL   \n",
       "\n",
       "              5           6           7           8           9      ...  \\\n",
       "Date     1984-09-14  1984-09-17  1984-09-18  1984-09-19  1984-09-20  ...   \n",
       "Open        0.44052     0.45718     0.45718     0.44052     0.43286  ...   \n",
       "High        0.45589     0.46357     0.46103     0.44566     0.43668  ...   \n",
       "Low         0.44052     0.45718     0.44052     0.43157     0.43286  ...   \n",
       "Close       0.44566     0.45718     0.44052     0.43157     0.43286  ...   \n",
       "Volume     68847968    53755262    27136886    29641922    18453585  ...   \n",
       "OpenInt           0           0           0           0           0  ...   \n",
       "Stock          AAPL        AAPL        AAPL        AAPL        AAPL  ...   \n",
       "\n",
       "              19576       19577       19578       19579       19580  \\\n",
       "Date     2017-10-30  2017-10-31  2017-11-01  2017-11-02  2017-11-03   \n",
       "Open         179.26      180.57      182.36      180.63      179.29   \n",
       "High         180.69       180.8       182.9      181.94      179.86   \n",
       "Low          177.61      178.94      180.57      177.34      176.71   \n",
       "Close        179.87      180.06      182.66      178.92      178.92   \n",
       "Volume     24353160    20174231    40918341    35529893    17822131   \n",
       "OpenInt           0           0           0           0           0   \n",
       "Stock            FB          FB          FB          FB          FB   \n",
       "\n",
       "              19581       19582       19583       19584       19585  \n",
       "Date     2017-11-06  2017-11-07  2017-11-08  2017-11-09  2017-11-10  \n",
       "Open         178.56       180.5      179.79      178.31      178.35  \n",
       "High         180.45     180.748      180.35       179.4       179.1  \n",
       "Low          178.31     179.403      179.11      177.09      177.96  \n",
       "Close        180.17      180.25      179.56       179.3      178.46  \n",
       "Volume     13275578    12903836    10467606    12602188    11060355  \n",
       "OpenInt           0           0           0           0           0  \n",
       "Stock            FB          FB          FB          FB          FB  \n",
       "\n",
       "[8 rows x 19586 columns]"
      ]
     },
     "execution_count": 129,
     "metadata": {},
     "output_type": "execute_result"
    }
   ],
   "source": [
    "stock_data.T"
   ]
  },
  {
   "cell_type": "code",
   "execution_count": 130,
   "id": "021c913d-3c2c-45f6-818f-7edb7ae28765",
   "metadata": {},
   "outputs": [
    {
     "data": {
      "text/plain": [
       "Date       0\n",
       "Open       0\n",
       "High       0\n",
       "Low        0\n",
       "Close      0\n",
       "Volume     0\n",
       "OpenInt    0\n",
       "Stock      0\n",
       "dtype: int64"
      ]
     },
     "execution_count": 130,
     "metadata": {},
     "output_type": "execute_result"
    }
   ],
   "source": [
    "stock_data.isnull().sum()"
   ]
  },
  {
   "cell_type": "code",
   "execution_count": 131,
   "id": "77d040a5",
   "metadata": {},
   "outputs": [
    {
     "data": {
      "text/html": [
       "<div>\n",
       "<style scoped>\n",
       "    .dataframe tbody tr th:only-of-type {\n",
       "        vertical-align: middle;\n",
       "    }\n",
       "\n",
       "    .dataframe tbody tr th {\n",
       "        vertical-align: top;\n",
       "    }\n",
       "\n",
       "    .dataframe thead th {\n",
       "        text-align: right;\n",
       "    }\n",
       "</style>\n",
       "<table border=\"1\" class=\"dataframe\">\n",
       "  <thead>\n",
       "    <tr style=\"text-align: right;\">\n",
       "      <th></th>\n",
       "      <th>Date</th>\n",
       "      <th>Stock</th>\n",
       "    </tr>\n",
       "  </thead>\n",
       "  <tbody>\n",
       "    <tr>\n",
       "      <th>0</th>\n",
       "      <td>1984-09-07</td>\n",
       "      <td>AAPL</td>\n",
       "    </tr>\n",
       "    <tr>\n",
       "      <th>1</th>\n",
       "      <td>1984-09-10</td>\n",
       "      <td>AAPL</td>\n",
       "    </tr>\n",
       "    <tr>\n",
       "      <th>2</th>\n",
       "      <td>1984-09-11</td>\n",
       "      <td>AAPL</td>\n",
       "    </tr>\n",
       "    <tr>\n",
       "      <th>3</th>\n",
       "      <td>1984-09-12</td>\n",
       "      <td>AAPL</td>\n",
       "    </tr>\n",
       "    <tr>\n",
       "      <th>4</th>\n",
       "      <td>1984-09-13</td>\n",
       "      <td>AAPL</td>\n",
       "    </tr>\n",
       "    <tr>\n",
       "      <th>...</th>\n",
       "      <td>...</td>\n",
       "      <td>...</td>\n",
       "    </tr>\n",
       "    <tr>\n",
       "      <th>19581</th>\n",
       "      <td>2017-11-06</td>\n",
       "      <td>FB</td>\n",
       "    </tr>\n",
       "    <tr>\n",
       "      <th>19582</th>\n",
       "      <td>2017-11-07</td>\n",
       "      <td>FB</td>\n",
       "    </tr>\n",
       "    <tr>\n",
       "      <th>19583</th>\n",
       "      <td>2017-11-08</td>\n",
       "      <td>FB</td>\n",
       "    </tr>\n",
       "    <tr>\n",
       "      <th>19584</th>\n",
       "      <td>2017-11-09</td>\n",
       "      <td>FB</td>\n",
       "    </tr>\n",
       "    <tr>\n",
       "      <th>19585</th>\n",
       "      <td>2017-11-10</td>\n",
       "      <td>FB</td>\n",
       "    </tr>\n",
       "  </tbody>\n",
       "</table>\n",
       "<p>19586 rows × 2 columns</p>\n",
       "</div>"
      ],
      "text/plain": [
       "             Date Stock\n",
       "0      1984-09-07  AAPL\n",
       "1      1984-09-10  AAPL\n",
       "2      1984-09-11  AAPL\n",
       "3      1984-09-12  AAPL\n",
       "4      1984-09-13  AAPL\n",
       "...           ...   ...\n",
       "19581  2017-11-06    FB\n",
       "19582  2017-11-07    FB\n",
       "19583  2017-11-08    FB\n",
       "19584  2017-11-09    FB\n",
       "19585  2017-11-10    FB\n",
       "\n",
       "[19586 rows x 2 columns]"
      ]
     },
     "execution_count": 131,
     "metadata": {},
     "output_type": "execute_result"
    }
   ],
   "source": [
    "stock_data.select_dtypes(object)"
   ]
  },
  {
   "cell_type": "code",
   "execution_count": 132,
   "id": "c80d6e29",
   "metadata": {},
   "outputs": [
    {
     "name": "stdout",
     "output_type": "stream",
     "text": [
      "Remaining rows: 8326\n"
     ]
    }
   ],
   "source": [
    "stock_data = stock_data.drop_duplicates(subset=['Open', 'Stock'], keep=False)\n",
    "print(\"Remaining rows:\", stock_data.shape[0])\n"
   ]
  },
  {
   "cell_type": "code",
   "execution_count": 133,
   "id": "d9c20b12",
   "metadata": {},
   "outputs": [
    {
     "name": "stdout",
     "output_type": "stream",
     "text": [
      "             Date       Open       High        Low      Close     Volume  \\\n",
      "2      1984-09-11    0.42516    0.43668    0.42516    0.42902   42498199   \n",
      "110    1985-02-13    0.47512    0.47512    0.45335    0.45335  146978950   \n",
      "164    1985-05-02    0.32911    0.32911    0.30733    0.30733   91968038   \n",
      "178    1985-05-22    0.33041    0.33297    0.32911    0.32911   33621242   \n",
      "182    1985-05-29    0.27279    0.27535    0.27279    0.27279   68760507   \n",
      "...           ...        ...        ...        ...        ...        ...   \n",
      "19581  2017-11-06  178.56000  180.45000  178.31000  180.17000   13275578   \n",
      "19582  2017-11-07  180.50000  180.74800  179.40300  180.25000   12903836   \n",
      "19583  2017-11-08  179.79000  180.35000  179.11000  179.56000   10467606   \n",
      "19584  2017-11-09  178.31000  179.40000  177.09000  179.30000   12602188   \n",
      "19585  2017-11-10  178.35000  179.10000  177.96000  178.46000   11060355   \n",
      "\n",
      "       OpenInt Stock  \n",
      "2            0  AAPL  \n",
      "110          0  AAPL  \n",
      "164          0  AAPL  \n",
      "178          0  AAPL  \n",
      "182          0  AAPL  \n",
      "...        ...   ...  \n",
      "19581        0    FB  \n",
      "19582        0    FB  \n",
      "19583        0    FB  \n",
      "19584        0    FB  \n",
      "19585        0    FB  \n",
      "\n",
      "[8326 rows x 8 columns]\n"
     ]
    }
   ],
   "source": [
    "print(stock_data)"
   ]
  },
  {
   "cell_type": "code",
   "execution_count": 134,
   "id": "2f7efc9b",
   "metadata": {},
   "outputs": [
    {
     "name": "stdout",
     "output_type": "stream",
     "text": [
      "<class 'pandas.core.frame.DataFrame'>\n"
     ]
    }
   ],
   "source": [
    "print(type(stock_data))"
   ]
  },
  {
   "cell_type": "code",
   "execution_count": 135,
   "id": "4101543f",
   "metadata": {},
   "outputs": [],
   "source": [
    "stock_data = stock_data.drop_duplicates(subset=['Open', 'Stock', 'Close'], keep='first')\n"
   ]
  },
  {
   "cell_type": "markdown",
   "id": "76bbfe73-0849-49d6-ac25-1bb1eceac5ff",
   "metadata": {},
   "source": [
    "There are no missing values in this dataset"
   ]
  },
  {
   "cell_type": "code",
   "execution_count": 136,
   "id": "e786a3ea-9f41-4304-94fe-a7cf05ca28f4",
   "metadata": {},
   "outputs": [
    {
     "data": {
      "text/html": [
       "<div>\n",
       "<style scoped>\n",
       "    .dataframe tbody tr th:only-of-type {\n",
       "        vertical-align: middle;\n",
       "    }\n",
       "\n",
       "    .dataframe tbody tr th {\n",
       "        vertical-align: top;\n",
       "    }\n",
       "\n",
       "    .dataframe thead th {\n",
       "        text-align: right;\n",
       "    }\n",
       "</style>\n",
       "<table border=\"1\" class=\"dataframe\">\n",
       "  <thead>\n",
       "    <tr style=\"text-align: right;\">\n",
       "      <th></th>\n",
       "      <th>Date</th>\n",
       "      <th>Stock</th>\n",
       "    </tr>\n",
       "  </thead>\n",
       "  <tbody>\n",
       "    <tr>\n",
       "      <th>2</th>\n",
       "      <td>1984-09-11</td>\n",
       "      <td>AAPL</td>\n",
       "    </tr>\n",
       "    <tr>\n",
       "      <th>110</th>\n",
       "      <td>1985-02-13</td>\n",
       "      <td>AAPL</td>\n",
       "    </tr>\n",
       "    <tr>\n",
       "      <th>164</th>\n",
       "      <td>1985-05-02</td>\n",
       "      <td>AAPL</td>\n",
       "    </tr>\n",
       "    <tr>\n",
       "      <th>178</th>\n",
       "      <td>1985-05-22</td>\n",
       "      <td>AAPL</td>\n",
       "    </tr>\n",
       "    <tr>\n",
       "      <th>182</th>\n",
       "      <td>1985-05-29</td>\n",
       "      <td>AAPL</td>\n",
       "    </tr>\n",
       "    <tr>\n",
       "      <th>...</th>\n",
       "      <td>...</td>\n",
       "      <td>...</td>\n",
       "    </tr>\n",
       "    <tr>\n",
       "      <th>19581</th>\n",
       "      <td>2017-11-06</td>\n",
       "      <td>FB</td>\n",
       "    </tr>\n",
       "    <tr>\n",
       "      <th>19582</th>\n",
       "      <td>2017-11-07</td>\n",
       "      <td>FB</td>\n",
       "    </tr>\n",
       "    <tr>\n",
       "      <th>19583</th>\n",
       "      <td>2017-11-08</td>\n",
       "      <td>FB</td>\n",
       "    </tr>\n",
       "    <tr>\n",
       "      <th>19584</th>\n",
       "      <td>2017-11-09</td>\n",
       "      <td>FB</td>\n",
       "    </tr>\n",
       "    <tr>\n",
       "      <th>19585</th>\n",
       "      <td>2017-11-10</td>\n",
       "      <td>FB</td>\n",
       "    </tr>\n",
       "  </tbody>\n",
       "</table>\n",
       "<p>8326 rows × 2 columns</p>\n",
       "</div>"
      ],
      "text/plain": [
       "             Date Stock\n",
       "2      1984-09-11  AAPL\n",
       "110    1985-02-13  AAPL\n",
       "164    1985-05-02  AAPL\n",
       "178    1985-05-22  AAPL\n",
       "182    1985-05-29  AAPL\n",
       "...           ...   ...\n",
       "19581  2017-11-06    FB\n",
       "19582  2017-11-07    FB\n",
       "19583  2017-11-08    FB\n",
       "19584  2017-11-09    FB\n",
       "19585  2017-11-10    FB\n",
       "\n",
       "[8326 rows x 2 columns]"
      ]
     },
     "execution_count": 136,
     "metadata": {},
     "output_type": "execute_result"
    }
   ],
   "source": [
    "stock_data.select_dtypes('object')"
   ]
  },
  {
   "cell_type": "code",
   "execution_count": 137,
   "id": "d9766fb3",
   "metadata": {},
   "outputs": [
    {
     "data": {
      "text/plain": [
       "Date       4146\n",
       "Open       8064\n",
       "High       7530\n",
       "Low        7585\n",
       "Close      7636\n",
       "Volume     8323\n",
       "OpenInt       1\n",
       "Stock         4\n",
       "dtype: int64"
      ]
     },
     "execution_count": 137,
     "metadata": {},
     "output_type": "execute_result"
    }
   ],
   "source": [
    "stock_data.nunique()"
   ]
  },
  {
   "cell_type": "code",
   "execution_count": 138,
   "id": "21bdd88d",
   "metadata": {},
   "outputs": [
    {
     "name": "stdout",
     "output_type": "stream",
     "text": [
      "<class 'pandas.core.frame.DataFrame'>\n",
      "Index: 8326 entries, 2 to 19585\n",
      "Data columns (total 8 columns):\n",
      " #   Column   Non-Null Count  Dtype  \n",
      "---  ------   --------------  -----  \n",
      " 0   Date     8326 non-null   object \n",
      " 1   Open     8326 non-null   float64\n",
      " 2   High     8326 non-null   float64\n",
      " 3   Low      8326 non-null   float64\n",
      " 4   Close    8326 non-null   float64\n",
      " 5   Volume   8326 non-null   int64  \n",
      " 6   OpenInt  8326 non-null   int64  \n",
      " 7   Stock    8326 non-null   object \n",
      "dtypes: float64(4), int64(2), object(2)\n",
      "memory usage: 585.4+ KB\n"
     ]
    }
   ],
   "source": [
    "stock_data.info()"
   ]
  },
  {
   "cell_type": "code",
   "execution_count": 139,
   "id": "a217c287-edd6-4abf-9d21-9255e5c0bb22",
   "metadata": {},
   "outputs": [],
   "source": [
    "stock_data['Date'] = pd.to_datetime(stock_data['Date'], format='%Y-%m-%d')"
   ]
  },
  {
   "cell_type": "code",
   "execution_count": 140,
   "id": "25879320-9d2d-4f5f-9466-54fb65b2ed52",
   "metadata": {},
   "outputs": [],
   "source": [
    "stock_data['Stock'] = stock_data['Stock'].replace('FB', 'META')"
   ]
  },
  {
   "cell_type": "code",
   "execution_count": 141,
   "id": "6d2951eb-1800-42bf-b3ef-e9f72782a9d6",
   "metadata": {},
   "outputs": [
    {
     "data": {
      "text/html": [
       "<div>\n",
       "<style scoped>\n",
       "    .dataframe tbody tr th:only-of-type {\n",
       "        vertical-align: middle;\n",
       "    }\n",
       "\n",
       "    .dataframe tbody tr th {\n",
       "        vertical-align: top;\n",
       "    }\n",
       "\n",
       "    .dataframe thead th {\n",
       "        text-align: right;\n",
       "    }\n",
       "</style>\n",
       "<table border=\"1\" class=\"dataframe\">\n",
       "  <thead>\n",
       "    <tr style=\"text-align: right;\">\n",
       "      <th></th>\n",
       "      <th>Stock</th>\n",
       "    </tr>\n",
       "  </thead>\n",
       "  <tbody>\n",
       "    <tr>\n",
       "      <th>2</th>\n",
       "      <td>AAPL</td>\n",
       "    </tr>\n",
       "    <tr>\n",
       "      <th>110</th>\n",
       "      <td>AAPL</td>\n",
       "    </tr>\n",
       "    <tr>\n",
       "      <th>164</th>\n",
       "      <td>AAPL</td>\n",
       "    </tr>\n",
       "    <tr>\n",
       "      <th>178</th>\n",
       "      <td>AAPL</td>\n",
       "    </tr>\n",
       "    <tr>\n",
       "      <th>182</th>\n",
       "      <td>AAPL</td>\n",
       "    </tr>\n",
       "    <tr>\n",
       "      <th>...</th>\n",
       "      <td>...</td>\n",
       "    </tr>\n",
       "    <tr>\n",
       "      <th>19581</th>\n",
       "      <td>META</td>\n",
       "    </tr>\n",
       "    <tr>\n",
       "      <th>19582</th>\n",
       "      <td>META</td>\n",
       "    </tr>\n",
       "    <tr>\n",
       "      <th>19583</th>\n",
       "      <td>META</td>\n",
       "    </tr>\n",
       "    <tr>\n",
       "      <th>19584</th>\n",
       "      <td>META</td>\n",
       "    </tr>\n",
       "    <tr>\n",
       "      <th>19585</th>\n",
       "      <td>META</td>\n",
       "    </tr>\n",
       "  </tbody>\n",
       "</table>\n",
       "<p>8326 rows × 1 columns</p>\n",
       "</div>"
      ],
      "text/plain": [
       "      Stock\n",
       "2      AAPL\n",
       "110    AAPL\n",
       "164    AAPL\n",
       "178    AAPL\n",
       "182    AAPL\n",
       "...     ...\n",
       "19581  META\n",
       "19582  META\n",
       "19583  META\n",
       "19584  META\n",
       "19585  META\n",
       "\n",
       "[8326 rows x 1 columns]"
      ]
     },
     "execution_count": 141,
     "metadata": {},
     "output_type": "execute_result"
    }
   ],
   "source": [
    "stock_data.select_dtypes('object')"
   ]
  },
  {
   "cell_type": "code",
   "execution_count": 142,
   "id": "39ad5ce9",
   "metadata": {},
   "outputs": [
    {
     "name": "stdout",
     "output_type": "stream",
     "text": [
      "Index(['Date', 'Open', 'High', 'Low', 'Close', 'Volume', 'OpenInt', 'Stock'], dtype='object')\n"
     ]
    }
   ],
   "source": [
    "print(stock_data.columns)"
   ]
  },
  {
   "cell_type": "code",
   "execution_count": 143,
   "id": "88d9a6da",
   "metadata": {},
   "outputs": [
    {
     "data": {
      "text/plain": [
       "Stock\n",
       "AAPL    3426\n",
       "MSFT    2252\n",
       "TSLA    1450\n",
       "META    1198\n",
       "Name: count, dtype: int64"
      ]
     },
     "execution_count": 143,
     "metadata": {},
     "output_type": "execute_result"
    }
   ],
   "source": [
    "stock_data['Stock'].value_counts()"
   ]
  },
  {
   "cell_type": "code",
   "execution_count": 144,
   "id": "c15755e3-a4b0-43be-8b55-87159b9ef030",
   "metadata": {},
   "outputs": [
    {
     "data": {
      "text/plain": [
       "Date       datetime64[ns]\n",
       "Open              float64\n",
       "High              float64\n",
       "Low               float64\n",
       "Close             float64\n",
       "Volume              int64\n",
       "OpenInt             int64\n",
       "Stock              object\n",
       "dtype: object"
      ]
     },
     "execution_count": 144,
     "metadata": {},
     "output_type": "execute_result"
    }
   ],
   "source": [
    "stock_data.dtypes"
   ]
  },
  {
   "cell_type": "code",
   "execution_count": 145,
   "id": "a53b378d-3133-49de-846e-2d3aff6d0e92",
   "metadata": {},
   "outputs": [
    {
     "data": {
      "text/html": [
       "<div>\n",
       "<style scoped>\n",
       "    .dataframe tbody tr th:only-of-type {\n",
       "        vertical-align: middle;\n",
       "    }\n",
       "\n",
       "    .dataframe tbody tr th {\n",
       "        vertical-align: top;\n",
       "    }\n",
       "\n",
       "    .dataframe thead th {\n",
       "        text-align: right;\n",
       "    }\n",
       "</style>\n",
       "<table border=\"1\" class=\"dataframe\">\n",
       "  <thead>\n",
       "    <tr style=\"text-align: right;\">\n",
       "      <th></th>\n",
       "      <th>Date</th>\n",
       "      <th>Open</th>\n",
       "      <th>Close</th>\n",
       "      <th>Change</th>\n",
       "      <th>Volume</th>\n",
       "      <th>Stock</th>\n",
       "    </tr>\n",
       "  </thead>\n",
       "  <tbody>\n",
       "    <tr>\n",
       "      <th>2</th>\n",
       "      <td>1984-09-11</td>\n",
       "      <td>0.42516</td>\n",
       "      <td>0.42902</td>\n",
       "      <td>0.00386</td>\n",
       "      <td>42498199</td>\n",
       "      <td>AAPL</td>\n",
       "    </tr>\n",
       "    <tr>\n",
       "      <th>110</th>\n",
       "      <td>1985-02-13</td>\n",
       "      <td>0.47512</td>\n",
       "      <td>0.45335</td>\n",
       "      <td>-0.02177</td>\n",
       "      <td>146978950</td>\n",
       "      <td>AAPL</td>\n",
       "    </tr>\n",
       "    <tr>\n",
       "      <th>164</th>\n",
       "      <td>1985-05-02</td>\n",
       "      <td>0.32911</td>\n",
       "      <td>0.30733</td>\n",
       "      <td>-0.02178</td>\n",
       "      <td>91968038</td>\n",
       "      <td>AAPL</td>\n",
       "    </tr>\n",
       "    <tr>\n",
       "      <th>178</th>\n",
       "      <td>1985-05-22</td>\n",
       "      <td>0.33041</td>\n",
       "      <td>0.32911</td>\n",
       "      <td>-0.00130</td>\n",
       "      <td>33621242</td>\n",
       "      <td>AAPL</td>\n",
       "    </tr>\n",
       "    <tr>\n",
       "      <th>182</th>\n",
       "      <td>1985-05-29</td>\n",
       "      <td>0.27279</td>\n",
       "      <td>0.27279</td>\n",
       "      <td>0.00000</td>\n",
       "      <td>68760507</td>\n",
       "      <td>AAPL</td>\n",
       "    </tr>\n",
       "  </tbody>\n",
       "</table>\n",
       "</div>"
      ],
      "text/plain": [
       "          Date     Open    Close   Change     Volume Stock\n",
       "2   1984-09-11  0.42516  0.42902  0.00386   42498199  AAPL\n",
       "110 1985-02-13  0.47512  0.45335 -0.02177  146978950  AAPL\n",
       "164 1985-05-02  0.32911  0.30733 -0.02178   91968038  AAPL\n",
       "178 1985-05-22  0.33041  0.32911 -0.00130   33621242  AAPL\n",
       "182 1985-05-29  0.27279  0.27279  0.00000   68760507  AAPL"
      ]
     },
     "execution_count": 145,
     "metadata": {},
     "output_type": "execute_result"
    }
   ],
   "source": [
    "\n",
    "\n",
    "stock_data[\"Change\"] = stock_data[\"Close\"] - stock_data[\"Open\"]\n",
    "change = stock_data[[\"Date\", \"Open\", \"Close\", \"Change\", \"Volume\", \"Stock\"]].copy()\n",
    "#change[\"Date\"] = pd.to_datetime(change[\"Date\"])\n",
    "\n",
    "change.head()"
   ]
  },
  {
   "cell_type": "code",
   "execution_count": 146,
   "id": "1194296e",
   "metadata": {},
   "outputs": [
    {
     "data": {
      "text/html": [
       "<div>\n",
       "<style scoped>\n",
       "    .dataframe tbody tr th:only-of-type {\n",
       "        vertical-align: middle;\n",
       "    }\n",
       "\n",
       "    .dataframe tbody tr th {\n",
       "        vertical-align: top;\n",
       "    }\n",
       "\n",
       "    .dataframe thead th {\n",
       "        text-align: right;\n",
       "    }\n",
       "</style>\n",
       "<table border=\"1\" class=\"dataframe\">\n",
       "  <thead>\n",
       "    <tr style=\"text-align: right;\">\n",
       "      <th></th>\n",
       "      <th>Date</th>\n",
       "      <th>Open</th>\n",
       "      <th>Close</th>\n",
       "      <th>Loss</th>\n",
       "      <th>Change</th>\n",
       "      <th>Volume</th>\n",
       "      <th>Stock</th>\n",
       "    </tr>\n",
       "  </thead>\n",
       "  <tbody>\n",
       "    <tr>\n",
       "      <th>2</th>\n",
       "      <td>1984-09-11</td>\n",
       "      <td>0.42516</td>\n",
       "      <td>0.42902</td>\n",
       "      <td>-0.00386</td>\n",
       "      <td>0.00386</td>\n",
       "      <td>42498199</td>\n",
       "      <td>AAPL</td>\n",
       "    </tr>\n",
       "    <tr>\n",
       "      <th>110</th>\n",
       "      <td>1985-02-13</td>\n",
       "      <td>0.47512</td>\n",
       "      <td>0.45335</td>\n",
       "      <td>0.02177</td>\n",
       "      <td>-0.02177</td>\n",
       "      <td>146978950</td>\n",
       "      <td>AAPL</td>\n",
       "    </tr>\n",
       "    <tr>\n",
       "      <th>164</th>\n",
       "      <td>1985-05-02</td>\n",
       "      <td>0.32911</td>\n",
       "      <td>0.30733</td>\n",
       "      <td>0.02178</td>\n",
       "      <td>-0.02178</td>\n",
       "      <td>91968038</td>\n",
       "      <td>AAPL</td>\n",
       "    </tr>\n",
       "    <tr>\n",
       "      <th>178</th>\n",
       "      <td>1985-05-22</td>\n",
       "      <td>0.33041</td>\n",
       "      <td>0.32911</td>\n",
       "      <td>0.00130</td>\n",
       "      <td>-0.00130</td>\n",
       "      <td>33621242</td>\n",
       "      <td>AAPL</td>\n",
       "    </tr>\n",
       "    <tr>\n",
       "      <th>182</th>\n",
       "      <td>1985-05-29</td>\n",
       "      <td>0.27279</td>\n",
       "      <td>0.27279</td>\n",
       "      <td>0.00000</td>\n",
       "      <td>0.00000</td>\n",
       "      <td>68760507</td>\n",
       "      <td>AAPL</td>\n",
       "    </tr>\n",
       "    <tr>\n",
       "      <th>...</th>\n",
       "      <td>...</td>\n",
       "      <td>...</td>\n",
       "      <td>...</td>\n",
       "      <td>...</td>\n",
       "      <td>...</td>\n",
       "      <td>...</td>\n",
       "      <td>...</td>\n",
       "    </tr>\n",
       "    <tr>\n",
       "      <th>19581</th>\n",
       "      <td>2017-11-06</td>\n",
       "      <td>178.56000</td>\n",
       "      <td>180.17000</td>\n",
       "      <td>-1.61000</td>\n",
       "      <td>1.61000</td>\n",
       "      <td>13275578</td>\n",
       "      <td>META</td>\n",
       "    </tr>\n",
       "    <tr>\n",
       "      <th>19582</th>\n",
       "      <td>2017-11-07</td>\n",
       "      <td>180.50000</td>\n",
       "      <td>180.25000</td>\n",
       "      <td>0.25000</td>\n",
       "      <td>-0.25000</td>\n",
       "      <td>12903836</td>\n",
       "      <td>META</td>\n",
       "    </tr>\n",
       "    <tr>\n",
       "      <th>19583</th>\n",
       "      <td>2017-11-08</td>\n",
       "      <td>179.79000</td>\n",
       "      <td>179.56000</td>\n",
       "      <td>0.23000</td>\n",
       "      <td>-0.23000</td>\n",
       "      <td>10467606</td>\n",
       "      <td>META</td>\n",
       "    </tr>\n",
       "    <tr>\n",
       "      <th>19584</th>\n",
       "      <td>2017-11-09</td>\n",
       "      <td>178.31000</td>\n",
       "      <td>179.30000</td>\n",
       "      <td>-0.99000</td>\n",
       "      <td>0.99000</td>\n",
       "      <td>12602188</td>\n",
       "      <td>META</td>\n",
       "    </tr>\n",
       "    <tr>\n",
       "      <th>19585</th>\n",
       "      <td>2017-11-10</td>\n",
       "      <td>178.35000</td>\n",
       "      <td>178.46000</td>\n",
       "      <td>-0.11000</td>\n",
       "      <td>0.11000</td>\n",
       "      <td>11060355</td>\n",
       "      <td>META</td>\n",
       "    </tr>\n",
       "  </tbody>\n",
       "</table>\n",
       "<p>8326 rows × 7 columns</p>\n",
       "</div>"
      ],
      "text/plain": [
       "            Date       Open      Close     Loss   Change     Volume Stock\n",
       "2     1984-09-11    0.42516    0.42902 -0.00386  0.00386   42498199  AAPL\n",
       "110   1985-02-13    0.47512    0.45335  0.02177 -0.02177  146978950  AAPL\n",
       "164   1985-05-02    0.32911    0.30733  0.02178 -0.02178   91968038  AAPL\n",
       "178   1985-05-22    0.33041    0.32911  0.00130 -0.00130   33621242  AAPL\n",
       "182   1985-05-29    0.27279    0.27279  0.00000  0.00000   68760507  AAPL\n",
       "...          ...        ...        ...      ...      ...        ...   ...\n",
       "19581 2017-11-06  178.56000  180.17000 -1.61000  1.61000   13275578  META\n",
       "19582 2017-11-07  180.50000  180.25000  0.25000 -0.25000   12903836  META\n",
       "19583 2017-11-08  179.79000  179.56000  0.23000 -0.23000   10467606  META\n",
       "19584 2017-11-09  178.31000  179.30000 -0.99000  0.99000   12602188  META\n",
       "19585 2017-11-10  178.35000  178.46000 -0.11000  0.11000   11060355  META\n",
       "\n",
       "[8326 rows x 7 columns]"
      ]
     },
     "execution_count": 146,
     "metadata": {},
     "output_type": "execute_result"
    }
   ],
   "source": [
    "# adding a colum 'Loss' to the data\n",
    "stock_data[\"Loss\"] = stock_data[\"Open\"] - stock_data[\"Close\"]\n",
    "loss = stock_data[[\"Date\", \"Open\", \"Close\", \"Loss\", \"Change\", \"Volume\", \"Stock\"]].copy()\n",
    "loss"
   ]
  },
  {
   "cell_type": "code",
   "execution_count": 147,
   "id": "83dc856b",
   "metadata": {},
   "outputs": [
    {
     "data": {
      "text/html": [
       "<div>\n",
       "<style scoped>\n",
       "    .dataframe tbody tr th:only-of-type {\n",
       "        vertical-align: middle;\n",
       "    }\n",
       "\n",
       "    .dataframe tbody tr th {\n",
       "        vertical-align: top;\n",
       "    }\n",
       "\n",
       "    .dataframe thead th {\n",
       "        text-align: right;\n",
       "    }\n",
       "</style>\n",
       "<table border=\"1\" class=\"dataframe\">\n",
       "  <thead>\n",
       "    <tr style=\"text-align: right;\">\n",
       "      <th></th>\n",
       "      <th>Date</th>\n",
       "      <th>Open</th>\n",
       "      <th>High</th>\n",
       "      <th>Low</th>\n",
       "      <th>Close</th>\n",
       "      <th>Volume</th>\n",
       "      <th>OpenInt</th>\n",
       "      <th>Stock</th>\n",
       "      <th>Change</th>\n",
       "      <th>Loss</th>\n",
       "    </tr>\n",
       "  </thead>\n",
       "  <tbody>\n",
       "    <tr>\n",
       "      <th>min</th>\n",
       "      <td>1984-09-11</td>\n",
       "      <td>0.151</td>\n",
       "      <td>0.1593</td>\n",
       "      <td>0.151</td>\n",
       "      <td>0.1593</td>\n",
       "      <td>0</td>\n",
       "      <td>0</td>\n",
       "      <td>AAPL</td>\n",
       "      <td>-20.51</td>\n",
       "      <td>-20.76</td>\n",
       "    </tr>\n",
       "    <tr>\n",
       "      <th>max</th>\n",
       "      <td>2017-11-10</td>\n",
       "      <td>386.690</td>\n",
       "      <td>389.6100</td>\n",
       "      <td>379.345</td>\n",
       "      <td>385.0000</td>\n",
       "      <td>2069769775</td>\n",
       "      <td>0</td>\n",
       "      <td>TSLA</td>\n",
       "      <td>20.76</td>\n",
       "      <td>20.51</td>\n",
       "    </tr>\n",
       "  </tbody>\n",
       "</table>\n",
       "</div>"
      ],
      "text/plain": [
       "          Date     Open      High      Low     Close      Volume  OpenInt  \\\n",
       "min 1984-09-11    0.151    0.1593    0.151    0.1593           0        0   \n",
       "max 2017-11-10  386.690  389.6100  379.345  385.0000  2069769775        0   \n",
       "\n",
       "    Stock  Change   Loss  \n",
       "min  AAPL  -20.51 -20.76  \n",
       "max  TSLA   20.76  20.51  "
      ]
     },
     "execution_count": 147,
     "metadata": {},
     "output_type": "execute_result"
    }
   ],
   "source": [
    "stock_data.aggregate(['min','max'])"
   ]
  },
  {
   "cell_type": "code",
   "execution_count": 148,
   "id": "5cc03491",
   "metadata": {},
   "outputs": [
    {
     "name": "stdout",
     "output_type": "stream",
     "text": [
      "Number of numerical variables:  9\n"
     ]
    },
    {
     "data": {
      "text/html": [
       "<div>\n",
       "<style scoped>\n",
       "    .dataframe tbody tr th:only-of-type {\n",
       "        vertical-align: middle;\n",
       "    }\n",
       "\n",
       "    .dataframe tbody tr th {\n",
       "        vertical-align: top;\n",
       "    }\n",
       "\n",
       "    .dataframe thead th {\n",
       "        text-align: right;\n",
       "    }\n",
       "</style>\n",
       "<table border=\"1\" class=\"dataframe\">\n",
       "  <thead>\n",
       "    <tr style=\"text-align: right;\">\n",
       "      <th></th>\n",
       "      <th>Date</th>\n",
       "      <th>Open</th>\n",
       "      <th>High</th>\n",
       "      <th>Low</th>\n",
       "      <th>Close</th>\n",
       "      <th>Volume</th>\n",
       "      <th>OpenInt</th>\n",
       "      <th>Change</th>\n",
       "      <th>Loss</th>\n",
       "    </tr>\n",
       "  </thead>\n",
       "  <tbody>\n",
       "    <tr>\n",
       "      <th>2</th>\n",
       "      <td>1984-09-11</td>\n",
       "      <td>0.42516</td>\n",
       "      <td>0.43668</td>\n",
       "      <td>0.42516</td>\n",
       "      <td>0.42902</td>\n",
       "      <td>42498199</td>\n",
       "      <td>0</td>\n",
       "      <td>0.00386</td>\n",
       "      <td>-0.00386</td>\n",
       "    </tr>\n",
       "    <tr>\n",
       "      <th>110</th>\n",
       "      <td>1985-02-13</td>\n",
       "      <td>0.47512</td>\n",
       "      <td>0.47512</td>\n",
       "      <td>0.45335</td>\n",
       "      <td>0.45335</td>\n",
       "      <td>146978950</td>\n",
       "      <td>0</td>\n",
       "      <td>-0.02177</td>\n",
       "      <td>0.02177</td>\n",
       "    </tr>\n",
       "    <tr>\n",
       "      <th>164</th>\n",
       "      <td>1985-05-02</td>\n",
       "      <td>0.32911</td>\n",
       "      <td>0.32911</td>\n",
       "      <td>0.30733</td>\n",
       "      <td>0.30733</td>\n",
       "      <td>91968038</td>\n",
       "      <td>0</td>\n",
       "      <td>-0.02178</td>\n",
       "      <td>0.02178</td>\n",
       "    </tr>\n",
       "    <tr>\n",
       "      <th>178</th>\n",
       "      <td>1985-05-22</td>\n",
       "      <td>0.33041</td>\n",
       "      <td>0.33297</td>\n",
       "      <td>0.32911</td>\n",
       "      <td>0.32911</td>\n",
       "      <td>33621242</td>\n",
       "      <td>0</td>\n",
       "      <td>-0.00130</td>\n",
       "      <td>0.00130</td>\n",
       "    </tr>\n",
       "    <tr>\n",
       "      <th>182</th>\n",
       "      <td>1985-05-29</td>\n",
       "      <td>0.27279</td>\n",
       "      <td>0.27535</td>\n",
       "      <td>0.27279</td>\n",
       "      <td>0.27279</td>\n",
       "      <td>68760507</td>\n",
       "      <td>0</td>\n",
       "      <td>0.00000</td>\n",
       "      <td>0.00000</td>\n",
       "    </tr>\n",
       "  </tbody>\n",
       "</table>\n",
       "</div>"
      ],
      "text/plain": [
       "          Date     Open     High      Low    Close     Volume  OpenInt  \\\n",
       "2   1984-09-11  0.42516  0.43668  0.42516  0.42902   42498199        0   \n",
       "110 1985-02-13  0.47512  0.47512  0.45335  0.45335  146978950        0   \n",
       "164 1985-05-02  0.32911  0.32911  0.30733  0.30733   91968038        0   \n",
       "178 1985-05-22  0.33041  0.33297  0.32911  0.32911   33621242        0   \n",
       "182 1985-05-29  0.27279  0.27535  0.27279  0.27279   68760507        0   \n",
       "\n",
       "      Change     Loss  \n",
       "2    0.00386 -0.00386  \n",
       "110 -0.02177  0.02177  \n",
       "164 -0.02178  0.02178  \n",
       "178 -0.00130  0.00130  \n",
       "182  0.00000  0.00000  "
      ]
     },
     "execution_count": 148,
     "metadata": {},
     "output_type": "execute_result"
    }
   ],
   "source": [
    "numerical_features = [feature for feature in stock_data.columns if stock_data[feature].dtypes != 'O']\n",
    "\n",
    "print('Number of numerical variables: ', len(numerical_features))\n",
    "\n",
    "# visualise the numerical variables\n",
    "stock_data[numerical_features].head()"
   ]
  },
  {
   "cell_type": "code",
   "execution_count": 149,
   "id": "c087ebc2",
   "metadata": {},
   "outputs": [
    {
     "name": "stdout",
     "output_type": "stream",
     "text": [
      "        High      Low   Average\n",
      "2    0.43668  0.42516  0.430920\n",
      "110  0.47512  0.45335  0.464235\n",
      "164  0.32911  0.30733  0.318220\n",
      "178  0.33297  0.32911  0.331040\n",
      "182  0.27535  0.27279  0.274070\n"
     ]
    }
   ],
   "source": [
    "stock_data['Average'] = (stock_data['High'] + stock_data['Low']) / 2\n",
    "\n",
    "print(stock_data[[ 'High', 'Low', 'Average']].head())"
   ]
  },
  {
   "cell_type": "code",
   "execution_count": 150,
   "id": "803d2cda",
   "metadata": {},
   "outputs": [
    {
     "name": "stdout",
     "output_type": "stream",
     "text": [
      "Stock\n",
      "AAPL     48.034595\n",
      "META     85.077455\n",
      "MSFT     32.463285\n",
      "TSLA    168.265932\n",
      "Name: Average, dtype: float64\n"
     ]
    }
   ],
   "source": [
    "avg_price_per_stock = stock_data.groupby('Stock')['Average'].mean()\n",
    "print(avg_price_per_stock)"
   ]
  },
  {
   "cell_type": "code",
   "execution_count": 151,
   "id": "5c16a93a",
   "metadata": {},
   "outputs": [
    {
     "data": {
      "image/png": "[encoded data removed]",
      "text/plain": [
       "<Figure size 600x600 with 1 Axes>"
      ]
     },
     "metadata": {},
     "output_type": "display_data"
    }
   ],
   "source": [
    "avg_price_per_stock.sort_values(ascending=False).plot(\n",
    "    kind='barh',\n",
    "    figsize=(6, 6),\n",
    "    title='Average Stock Price'\n",
    ")\n",
    "\n",
    "plt.xlabel('Price')\n",
    "plt.tight_layout()\n",
    "plt.show()"
   ]
  },
  {
   "cell_type": "code",
   "execution_count": 152,
   "id": "a3bf94e5",
   "metadata": {},
   "outputs": [
    {
     "data": {
      "image/png": "[encoded data removed]",
      "text/plain": [
       "<Figure size 640x480 with 1 Axes>"
      ]
     },
     "metadata": {},
     "output_type": "display_data"
    }
   ],
   "source": [
    "plt.scatter(stock_data['Stock'], stock_data['High'], color='blue', label='High')\n",
    "\n",
    "# Plot Low prices\n",
    "plt.scatter(stock_data['Stock'], stock_data['Low'], color='red', label='Low')\n",
    "\n",
    "# Beautify\n",
    "plt.xlabel('Stock')\n",
    "plt.ylabel('Price')\n",
    "plt.title('Prices per Stock')\n",
    "plt.legend()\n",
    "plt.xticks(rotation=45)\n",
    "plt.tight_layout()\n",
    "plt.show()"
   ]
  },
  {
   "cell_type": "code",
   "execution_count": 153,
   "id": "339ac6cf-23ed-430c-9b7d-5c0abfab44fd",
   "metadata": {},
   "outputs": [
    {
     "name": "stdout",
     "output_type": "stream",
     "text": [
      "  Stock PriceType    Price\n",
      "0  AAPL      High  0.43668\n",
      "1  AAPL      High  0.47512\n",
      "2  AAPL      High  0.32911\n",
      "3  AAPL      High  0.33297\n",
      "4  AAPL      High  0.27535\n"
     ]
    }
   ],
   "source": [
    "prices = pd.melt(\n",
    "    stock_data[['Stock', 'High', 'Low']],\n",
    "    id_vars='Stock',\n",
    "    value_vars=['High', 'Low'],\n",
    "    var_name='PriceType',\n",
    "    value_name='Price'\n",
    ")\n",
    "print(prices.head())"
   ]
  },
  {
   "cell_type": "code",
   "execution_count": 154,
   "id": "8b5cbd0a",
   "metadata": {},
   "outputs": [
    {
     "data": {
      "image/png": "[encoded data removed]",
      "text/plain": [
       "<Figure size 640x480 with 1 Axes>"
      ]
     },
     "metadata": {},
     "output_type": "display_data"
    }
   ],
   "source": [
    "\n",
    "\n",
    "sns.boxplot(x='PriceType', y='Price', data=prices)\n",
    "plt.title('Distribution of High and Low Prices')\n",
    "plt.xlabel('Price Type')\n",
    "plt.ylabel('Price')\n",
    "plt.show()"
   ]
  },
  {
   "cell_type": "code",
   "execution_count": 155,
   "id": "aa7a549c",
   "metadata": {},
   "outputs": [
    {
     "data": {
      "image/png": "[encoded data removed]",
      "text/plain": [
       "<Figure size 640x480 with 1 Axes>"
      ]
     },
     "metadata": {},
     "output_type": "display_data"
    }
   ],
   "source": [
    "sns.boxplot(x='Stock', y='Price', hue='PriceType', data=prices)\n",
    "plt.title('Distribution of High and Low Prices')\n",
    "plt.xticks(rotation=45)\n",
    "plt.show()"
   ]
  },
  {
   "cell_type": "code",
   "execution_count": 156,
   "id": "89ca1133",
   "metadata": {},
   "outputs": [
    {
     "name": "stdout",
     "output_type": "stream",
     "text": [
      "2      0.42516\n",
      "110    0.47512\n",
      "164    0.32911\n",
      "178    0.33041\n",
      "182    0.27279\n",
      "Name: Open, dtype: float64\n"
     ]
    }
   ],
   "source": [
    "print(stock_data['Open'].head()) "
   ]
  },
  {
   "cell_type": "code",
   "execution_count": 157,
   "id": "6f83c297",
   "metadata": {},
   "outputs": [
    {
     "data": {
      "image/png": "[encoded data removed]",
      "text/plain": [
       "<Figure size 640x480 with 1 Axes>"
      ]
     },
     "metadata": {},
     "output_type": "display_data"
    }
   ],
   "source": [
    "\n",
    "stock_data['Open'].hist(bins=20)\n",
    "plt.xlabel(\"Open Price\")\n",
    "plt.ylabel(\"Frequency\")\n",
    "plt.title(\"Distribution of Open Prices\")\n",
    "plt.show()"
   ]
  },
  {
   "cell_type": "code",
   "execution_count": 158,
   "id": "d0217067",
   "metadata": {},
   "outputs": [
    {
     "data": {
      "image/png": "[encoded data removed]",
      "text/plain": [
       "<Figure size 1000x600 with 1 Axes>"
      ]
     },
     "metadata": {},
     "output_type": "display_data"
    }
   ],
   "source": [
    "AVG = stock_data.pivot_table(index='Stock', values=['Open', 'Close'], aggfunc='mean')\n",
    "\n",
    "# Plot as side-by-side bars\n",
    "AVG.plot(kind='bar', figsize=(10, 6))\n",
    "\n",
    "# Beautify\n",
    "plt.title('Average Open and Close Price')\n",
    "plt.xlabel('Stock')\n",
    "plt.ylabel('Price')\n",
    "plt.xticks(rotation=45)\n",
    "plt.legend(title='Price Type')\n",
    "plt.tight_layout()\n",
    "plt.show()"
   ]
  },
  {
   "cell_type": "code",
   "execution_count": null,
   "id": "ac065549",
   "metadata": {},
   "outputs": [],
   "source": []
  },
  {
   "cell_type": "code",
   "execution_count": 159,
   "id": "a4c2f7a3",
   "metadata": {},
   "outputs": [
    {
     "name": "stdout",
     "output_type": "stream",
     "text": [
      "Index(['Date', 'Open', 'High', 'Low', 'Close', 'Volume', 'OpenInt', 'Stock',\n",
      "       'Change', 'Loss', 'Average'],\n",
      "      dtype='object')\n"
     ]
    }
   ],
   "source": [
    "print(stock_data.columns)"
   ]
  },
  {
   "cell_type": "code",
   "execution_count": 160,
   "id": "34b3b177-113e-499c-aba8-e4ac3d322883",
   "metadata": {},
   "outputs": [
    {
     "name": "stdout",
     "output_type": "stream",
     "text": [
      "A file already exists with this name.\n",
      "\n",
      "Writing file.  \"../data/stock_data_cleaned.csv\"\n"
     ]
    }
   ],
   "source": [
    "from library.sb_utils import save_file\n",
    "\n",
    "datapath = '../data'\n",
    "save_file(stock_data,'stock_data_cleaned.csv', datapath)"
   ]
  },
  {
   "cell_type": "code",
   "execution_count": null,
   "id": "681c9feb",
   "metadata": {},
   "outputs": [],
   "source": []
  }
 ],
 "metadata": {
  "kernelspec": {
   "display_name": "Python 3 (ipykernel)",
   "language": "python",
   "name": "python3"
  },
  "language_info": {
   "codemirror_mode": {
    "name": "ipython",
    "version": 3
   },
   "file_extension": ".py",
   "mimetype": "text/x-python",
   "name": "python",
   "nbconvert_exporter": "python",
   "pygments_lexer": "ipython3",
   "version": "3.12.1"
  }
 },
 "nbformat": 4,
 "nbformat_minor": 5
}
